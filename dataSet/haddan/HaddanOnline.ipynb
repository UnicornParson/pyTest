{
 "cells": [
  {
   "cell_type": "code",
   "execution_count": 21,
   "id": "ca6bccf9",
   "metadata": {},
   "outputs": [],
   "source": [
    "%matplotlib inline\n",
    "%config InlineBackend.figure_format ='retina'\n",
    "import pandas as pd\n",
    "import numpy as np\n",
    "import sys\n",
    "from io import StringIO\n",
    "import glob\n",
    "import json\n",
    "if not hasattr(sys, \"version_info\") or sys.version_info < (3, 5):\n",
    "  raise SystemExit(\"This program requires Python 3.5 or later.\")\n",
    "\n",
    "import matplotlib\n",
    "#matplotlib.use('nbagg')\n",
    "import matplotlib.pyplot as plt\n",
    "import xml.etree.ElementTree as ET\n",
    "data_sources = glob.glob(\"data/*_shops.xml\")\n",
    "\n",
    "import tabletext\n",
    "# tags\n",
    "timetag = \"lastupdatetime\"\n",
    "shopTag = \"shop\"\n"
   ]
  },
  {
   "cell_type": "code",
   "execution_count": 22,
   "id": "9702aed1",
   "metadata": {},
   "outputs": [],
   "source": [
    "def processShop(tree, time):\n",
    "    ret = []\n",
    "    for good in tree:\n",
    "        goodData = {}\n",
    "        goodData[\"ttid\"] = int(good.findall(\"ttid\")[0].text)\n",
    "        goodData[\"time\"] = time\n",
    "        goodData[\"shop\"] = tree.attrib[\"name\"]\n",
    "        goodData[\"shopid\"] = tree.attrib[\"id\"]\n",
    "        goodData[\"shopmoney\"] = tree.attrib[\"money\"]\n",
    "        sellElems = good.findall(\"sell\")\n",
    "        if sellElems:\n",
    "            goodData[\"sell\"] = float(sellElems[0].text)\n",
    "        else:\n",
    "            goodData[\"sell\"] = 0.0\n",
    "            \n",
    "        buyElems = good.findall(\"buy\")\n",
    "        if buyElems:\n",
    "            goodData[\"buy\"] = float(buyElems[0].text)\n",
    "        else:\n",
    "            goodData[\"buy\"] = 0.0\n",
    "        goodData[\"count\"] = int(good.findall(\"count\")[0].text)\n",
    "        goodData[\"thingname\"] = good.findall(\"thingname\")[0].text\n",
    "        ret.append(goodData)\n",
    "    return ret\n",
    "\n",
    "def selectTtid(ttid, data):\n",
    "    ret = []\n",
    "    for row in data:\n",
    "        if row[\"ttid\"] == ttid:\n",
    "            ret.append(row)\n",
    "    return ret\n",
    "\n",
    "def ttids(data):\n",
    "    ret = []\n",
    "    for row in data:\n",
    "        ret.append(row[\"ttid\"])\n",
    "    return sorted(list(set(ret)))"
   ]
  },
  {
   "cell_type": "code",
   "execution_count": 23,
   "id": "1f9a7c96",
   "metadata": {},
   "outputs": [],
   "source": [
    "xmltree = ET.parse(data_sources[0])\n",
    "xmlroot = xmltree.getroot()\n",
    "timeelem = xmlroot.find(timetag)\n",
    "dataTime = int(timeelem.text)\n"
   ]
  },
  {
   "cell_type": "code",
   "execution_count": 24,
   "id": "18dbc8be",
   "metadata": {},
   "outputs": [
    {
     "ename": "TypeError",
     "evalue": "string indices must be integers",
     "output_type": "error",
     "traceback": [
      "\u001b[0;31m---------------------------------------------------------------------------\u001b[0m",
      "\u001b[0;31mTypeError\u001b[0m                                 Traceback (most recent call last)",
      "\u001b[0;32m<timed exec>\u001b[0m in \u001b[0;36m<module>\u001b[0;34m\u001b[0m\n",
      "\u001b[0;32m/tmp/ipykernel_11089/690464982.py\u001b[0m in \u001b[0;36mttids\u001b[0;34m(data)\u001b[0m\n\u001b[1;32m     34\u001b[0m     \u001b[0mret\u001b[0m \u001b[0;34m=\u001b[0m \u001b[0;34m[\u001b[0m\u001b[0;34m]\u001b[0m\u001b[0;34m\u001b[0m\u001b[0;34m\u001b[0m\u001b[0m\n\u001b[1;32m     35\u001b[0m     \u001b[0;32mfor\u001b[0m \u001b[0mrow\u001b[0m \u001b[0;32min\u001b[0m \u001b[0mdata\u001b[0m\u001b[0;34m:\u001b[0m\u001b[0;34m\u001b[0m\u001b[0;34m\u001b[0m\u001b[0m\n\u001b[0;32m---> 36\u001b[0;31m         \u001b[0mret\u001b[0m\u001b[0;34m.\u001b[0m\u001b[0mappend\u001b[0m\u001b[0;34m(\u001b[0m\u001b[0mrow\u001b[0m\u001b[0;34m[\u001b[0m\u001b[0;34m\"ttid\"\u001b[0m\u001b[0;34m]\u001b[0m\u001b[0;34m)\u001b[0m\u001b[0;34m\u001b[0m\u001b[0;34m\u001b[0m\u001b[0m\n\u001b[0m\u001b[1;32m     37\u001b[0m     \u001b[0;32mreturn\u001b[0m \u001b[0msorted\u001b[0m\u001b[0;34m(\u001b[0m\u001b[0mlist\u001b[0m\u001b[0;34m(\u001b[0m\u001b[0mset\u001b[0m\u001b[0;34m(\u001b[0m\u001b[0mret\u001b[0m\u001b[0;34m)\u001b[0m\u001b[0;34m)\u001b[0m\u001b[0;34m)\u001b[0m\u001b[0;34m\u001b[0m\u001b[0;34m\u001b[0m\u001b[0m\n",
      "\u001b[0;31mTypeError\u001b[0m: string indices must be integers"
     ]
    }
   ],
   "source": [
    "%%time\n",
    "goods = []\n",
    "for shop in xmlroot.findall(shopTag):\n",
    "    shopgoods = processShop(shop, dataTime)\n",
    "    for shops in shopgoods:\n",
    "        goods.extend(shops)\n",
    "ttid_list = ttids(goods)\n"
   ]
  },
  {
   "cell_type": "code",
   "execution_count": 25,
   "id": "72966e5b",
   "metadata": {},
   "outputs": [
    {
     "ename": "NameError",
     "evalue": "name 'ttid_list' is not defined",
     "output_type": "error",
     "traceback": [
      "\u001b[0;31m---------------------------------------------------------------------------\u001b[0m",
      "\u001b[0;31mNameError\u001b[0m                                 Traceback (most recent call last)",
      "\u001b[0;32m/tmp/ipykernel_11089/1076005661.py\u001b[0m in \u001b[0;36m<module>\u001b[0;34m\u001b[0m\n\u001b[1;32m      3\u001b[0m \u001b[0mmaxBuy\u001b[0m \u001b[0;34m=\u001b[0m  \u001b[0;36m10\u001b[0m \u001b[0;34m**\u001b[0m \u001b[0;36m10\u001b[0m\u001b[0;34m\u001b[0m\u001b[0;34m\u001b[0m\u001b[0m\n\u001b[1;32m      4\u001b[0m \u001b[0mresult\u001b[0m \u001b[0;34m=\u001b[0m \u001b[0;34m[\u001b[0m\u001b[0;34m]\u001b[0m\u001b[0;34m\u001b[0m\u001b[0;34m\u001b[0m\u001b[0m\n\u001b[0;32m----> 5\u001b[0;31m \u001b[0;32mfor\u001b[0m \u001b[0mttid\u001b[0m \u001b[0;32min\u001b[0m \u001b[0mttid_list\u001b[0m\u001b[0;34m:\u001b[0m\u001b[0;34m\u001b[0m\u001b[0;34m\u001b[0m\u001b[0m\n\u001b[0m\u001b[1;32m      6\u001b[0m     \u001b[0;32mfor\u001b[0m \u001b[0mgood\u001b[0m \u001b[0;32min\u001b[0m \u001b[0mselectTtid\u001b[0m\u001b[0;34m(\u001b[0m\u001b[0mttid\u001b[0m\u001b[0;34m,\u001b[0m \u001b[0mgoods\u001b[0m\u001b[0;34m)\u001b[0m\u001b[0;34m:\u001b[0m\u001b[0;34m\u001b[0m\u001b[0;34m\u001b[0m\u001b[0m\n\u001b[1;32m      7\u001b[0m         \u001b[0;32mif\u001b[0m \u001b[0mgood\u001b[0m\u001b[0;34m[\u001b[0m\u001b[0;34m\"sell\"\u001b[0m\u001b[0;34m]\u001b[0m \u001b[0;34m>\u001b[0m \u001b[0;36m0\u001b[0m \u001b[0;32mand\u001b[0m \u001b[0mgood\u001b[0m\u001b[0;34m[\u001b[0m\u001b[0;34m\"sell\"\u001b[0m\u001b[0;34m]\u001b[0m \u001b[0;34m<\u001b[0m \u001b[0mminSell\u001b[0m\u001b[0;34m:\u001b[0m\u001b[0;34m\u001b[0m\u001b[0;34m\u001b[0m\u001b[0m\n",
      "\u001b[0;31mNameError\u001b[0m: name 'ttid_list' is not defined"
     ]
    }
   ],
   "source": [
    "## resell\n",
    "minSell = 0\n",
    "maxBuy =  10 ** 10\n",
    "result = []\n",
    "for ttid in ttid_list:\n",
    "    for good in selectTtid(ttid, goods):\n",
    "        if good[\"sell\"] > 0 and good[\"sell\"] < minSell:\n",
    "            minSell = good[\"sell\"]\n",
    "        if good[\"buy\"] > 0 and good[\"buy\"] > maxBuy:\n",
    "            maxBuy = good[\"buy\"]\n",
    "    if minSell < maxBuy and minSell > 0:\n",
    "        result.append([good[\"thingname\"], minSell, maxBuy])\n",
    "\n",
    "\n",
    "df = pd.DataFrame(result, columns=[\"name\", \"skupka\", \"prodaja\"])\n",
    "df"
   ]
  },
  {
   "cell_type": "code",
   "execution_count": null,
   "id": "7aa0abaa",
   "metadata": {},
   "outputs": [],
   "source": []
  }
 ],
 "metadata": {
  "kernelspec": {
   "display_name": "Python 3 (ipykernel)",
   "language": "python",
   "name": "python3"
  },
  "language_info": {
   "codemirror_mode": {
    "name": "ipython",
    "version": 3
   },
   "file_extension": ".py",
   "mimetype": "text/x-python",
   "name": "python",
   "nbconvert_exporter": "python",
   "pygments_lexer": "ipython3",
   "version": "3.9.5"
  }
 },
 "nbformat": 4,
 "nbformat_minor": 5
}
