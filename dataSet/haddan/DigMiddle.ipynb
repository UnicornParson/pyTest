{
 "cells": [
  {
   "cell_type": "code",
   "execution_count": 2,
   "id": "d4c2117e",
   "metadata": {},
   "outputs": [
    {
     "data": {
      "application/javascript": [
       "IPython.OutputArea.prototype._should_scroll = function(lines) {\n",
       "    return false;\n",
       "}\n"
      ],
      "text/plain": [
       "<IPython.core.display.Javascript object>"
      ]
     },
     "metadata": {},
     "output_type": "display_data"
    }
   ],
   "source": [
    "%%javascript\n",
    "IPython.OutputArea.prototype._should_scroll = function(lines) {\n",
    "    return false;\n",
    "}"
   ]
  },
  {
   "cell_type": "code",
   "execution_count": 3,
   "id": "e51a8895",
   "metadata": {},
   "outputs": [
    {
     "name": "stdout",
     "output_type": "stream",
     "text": [
      "engines count: 3\n",
      "source files count: 2122\n"
     ]
    }
   ],
   "source": [
    "%matplotlib inline\n",
    "%config InlineBackend.figure_format ='retina'\n",
    "import time\n",
    "import pandas as pd\n",
    "import numpy as np\n",
    "import sys\n",
    "from io import StringIO\n",
    "import glob\n",
    "if not hasattr(sys, \"version_info\") or sys.version_info < (3, 5):\n",
    "  raise SystemExit(\"This program requires Python 3.5 or later.\")\n",
    "import csv\n",
    "import matplotlib\n",
    "#matplotlib.use('nbagg')\n",
    "import matplotlib.pyplot as plt\n",
    "import os\n",
    "## https://github.com/ipython/ipyparallel\n",
    "import ipyparallel as ipp\n",
    "from IPython.display import JSON\n",
    "import json\n",
    "import statistics as st\n",
    "from pympler import asizeof\n",
    "from hurry.filesize import size\n",
    "data_sources = glob.glob(\"data/*_shops.xml\")\n",
    "plt.rcParams['figure.figsize'] = [30/2.54, 20/2.54]\n",
    "tmpFolder = \"%s/tmp\" % os.getcwd()\n",
    "import tabletext\n",
    "import sqlite3\n",
    "import shutil\n",
    "# tags\n",
    "client = ipp.Client()\n",
    "workers = client[:]\n",
    "\n",
    "midDb = \"%s/midData/mid.db\" % os.getcwd()\n",
    "midDbExample = \"%s/midData/mid.example.db\" % os.getcwd()\n",
    "baseDir = os.getcwd() + \"/\"\n",
    "\n",
    "\n",
    "def cutPathes(s: str) -> str:\n",
    "    if s.startswith(baseDir):\n",
    "        return s[len(baseDir)::]\n",
    "    return s\n",
    "\n",
    "print(\"engines count: %d\" % len(client.ids))\n",
    "print(\"source files count: %d\" % len(data_sources))"
   ]
  },
  {
   "cell_type": "code",
   "execution_count": 4,
   "id": "db5baf49",
   "metadata": {},
   "outputs": [],
   "source": [
    "def getTtids(cursor):\n",
    "    q = \"select DISTINCT ttid from ttids ORDER by ttid\"\n",
    "    cur.execute(q)\n",
    "    ret = []\n",
    "    for row in cur.fetchall():\n",
    "        ret.append(row[0])\n",
    "    return ret"
   ]
  },
  {
   "cell_type": "code",
   "execution_count": 5,
   "id": "c7509301",
   "metadata": {},
   "outputs": [
    {
     "name": "stdout",
     "output_type": "stream",
     "text": [
      "15344\n"
     ]
    }
   ],
   "source": [
    "con = sqlite3.connect(midDb)\n",
    "cur = con.cursor()\n",
    "q = \"SELECT COUNT(ttid) FROM ttids\"\n",
    "cur.execute(q)\n",
    "print(cur.fetchall()[0][0])\n",
    "\n",
    "\n",
    "con.close()"
   ]
  }
 ],
 "metadata": {
  "kernelspec": {
   "display_name": "Python 3 (ipykernel)",
   "language": "python",
   "name": "python3"
  },
  "language_info": {
   "codemirror_mode": {
    "name": "ipython",
    "version": 3
   },
   "file_extension": ".py",
   "mimetype": "text/x-python",
   "name": "python",
   "nbconvert_exporter": "python",
   "pygments_lexer": "ipython3",
   "version": "3.9.5"
  }
 },
 "nbformat": 4,
 "nbformat_minor": 5
}
