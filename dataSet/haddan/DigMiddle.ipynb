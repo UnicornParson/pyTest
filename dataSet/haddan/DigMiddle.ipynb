{
 "cells": [
  {
   "cell_type": "code",
   "execution_count": 3,
   "id": "d4c2117e",
   "metadata": {},
   "outputs": [
    {
     "data": {
      "application/javascript": [
       "IPython.OutputArea.prototype._should_scroll = function(lines) {\n",
       "    return false;\n",
       "}\n"
      ],
      "text/plain": [
       "<IPython.core.display.Javascript object>"
      ]
     },
     "metadata": {},
     "output_type": "display_data"
    }
   ],
   "source": [
    "%%javascript\n",
    "IPython.OutputArea.prototype._should_scroll = function(lines) {\n",
    "    return false;\n",
    "}"
   ]
  },
  {
   "cell_type": "code",
   "execution_count": 4,
   "id": "e51a8895",
   "metadata": {},
   "outputs": [
    {
     "name": "stdout",
     "output_type": "stream",
     "text": [
      "engines count: 4\n",
      "source files count: 2751\n"
     ]
    }
   ],
   "source": [
    "%matplotlib inline\n",
    "%config InlineBackend.figure_format ='retina'\n",
    "import time\n",
    "import pandas as pd\n",
    "import numpy as np\n",
    "import sys\n",
    "from io import StringIO\n",
    "import glob\n",
    "if not hasattr(sys, \"version_info\") or sys.version_info < (3, 5):\n",
    "  raise SystemExit(\"This program requires Python 3.5 or later.\")\n",
    "import csv\n",
    "import matplotlib\n",
    "#matplotlib.use('nbagg')\n",
    "import matplotlib.pyplot as plt\n",
    "import os\n",
    "## https://github.com/ipython/ipyparallel\n",
    "import ipyparallel as ipp\n",
    "from IPython.display import JSON\n",
    "import json\n",
    "import statistics as st\n",
    "from pympler import asizeof\n",
    "from hurry.filesize import size\n",
    "data_sources = glob.glob(\"data/*_shops.xml\")\n",
    "plt.rcParams['figure.figsize'] = [30/2.54, 20/2.54]\n",
    "tmpFolder = \"%s/tmp\" % os.getcwd()\n",
    "import tabletext\n",
    "import sqlite3\n",
    "import shutil\n",
    "# tags\n",
    "client = ipp.Client()\n",
    "workers = client[:]\n",
    "\n",
    "midDb = \"%s/midData/mid.db\" % os.getcwd()\n",
    "midDbExample = \"%s/midData/mid.example.db\" % os.getcwd()\n",
    "baseDir = os.getcwd() + \"/\"\n",
    "\n",
    "\n",
    "def cutPathes(s: str) -> str:\n",
    "    if s.startswith(baseDir):\n",
    "        return s[len(baseDir)::]\n",
    "    return s\n",
    "\n",
    "print(\"engines count: %d\" % len(client.ids))\n",
    "\n",
    "# read env\n",
    "envHome = os.environ.get('HOME')\n",
    "envRamHome = os.environ.get('RAMCASHE')\n",
    "def cutPathes(s: str) -> str:\n",
    "    if s.startswith(baseDir):\n",
    "        return s[len(baseDir)::]\n",
    "    if s.startswith(envRamHome):\n",
    "        return s[len(envRamHome)::]\n",
    "    return s"
   ]
  },
  {
   "cell_type": "code",
   "execution_count": 5,
   "id": "e47fb6ff",
   "metadata": {},
   "outputs": [],
   "source": [
    "def mstime():\n",
    "    import time\n",
    "    return round(time.time() * 1000)\n",
    "\n",
    "def sync():\n",
    "    import os\n",
    "    os.system('sync')\n",
    "    \n",
    "def touch(path):\n",
    "    import os\n",
    "    with open(path, 'a'):\n",
    "        os.utime(path, None)\n",
    "    sync()\n",
    "    \n",
    "def unic(l: list) -> list :\n",
    "    return list(set(l))"
   ]
  },
  {
   "cell_type": "code",
   "execution_count": 6,
   "id": "db5baf49",
   "metadata": {},
   "outputs": [],
   "source": [
    "def getTtids(cursor):\n",
    "    q = \"select DISTINCT ttid from ttids ORDER by ttid\"\n",
    "    cur.execute(q)\n",
    "    ret = []\n",
    "    for row in cur.fetchall():\n",
    "        ret.append(row[0])\n",
    "    return ret\n",
    "\n",
    "def midSize(cursor)->int:\n",
    "    q = \"SELECT COUNT(ttid) FROM ttids\"\n",
    "    cursor.execute(q)\n",
    "    return int(cur.fetchall()[0][0])"
   ]
  },
  {
   "cell_type": "code",
   "execution_count": 8,
   "id": "c7509301",
   "metadata": {},
   "outputs": [
    {
     "name": "stdout",
     "output_type": "stream",
     "text": [
      "mid size 11729563\n"
     ]
    }
   ],
   "source": [
    "con = sqlite3.connect(midDb)\n",
    "cur = con.cursor()\n",
    "ms = midSize(cur)\n",
    "ttids = getTtids(cur)\n",
    "print(\"mid size %d. ttids count %d\" % ms)\n",
    "print(\"ttids count %d\" % len(ttids)\n",
    "\n",
    "con.close()"
   ]
  },
  {
   "cell_type": "code",
   "execution_count": null,
   "id": "26d41fd9",
   "metadata": {},
   "outputs": [],
   "source": [
    "for ttid in ttids:\n",
    "    buyMax = []\n",
    "    buyMin = []\n",
    "    buyAvg = []\n",
    "    buyMid = []\n",
    "    time = []\n",
    "    sellMax = []\n",
    "    sellMin = []\n",
    "    sellAvg = []\n",
    "    sellMid = []\n",
    "    q = '''\n",
    "SELECT * FROM `ttids`\n",
    "WHERE\n",
    "    (buystat_avg > 0) AND\n",
    "    (buystat_min > 0) AND\n",
    "    (buystat_max > 0) AND\n",
    "    (buystat_median > 0) AND\n",
    "    (buystat_gap > 0) AND\n",
    "    (buystat_stdev > 0)\n",
    "    '''\n",
    "    \n",
    "    \n",
    "    SELECT `snapshotid`, `buystat_avg`, `buystat_min`, `buystat_max`, `buystat_median`, `buystat_gap`, `buystat_stdev` FROM `ttids`\n",
    "WHERE\n",
    "    (buystat_avg > 0) AND\n",
    "    (buystat_min > 0) AND\n",
    "    (buystat_max > 0) AND\n",
    "    (buystat_median > 0) AND\n",
    "    (buystat_gap > 0) AND\n",
    "    (buystat_stdev > 0)"
   ]
  }
 ],
 "metadata": {
  "kernelspec": {
   "display_name": "Python 3 (ipykernel)",
   "language": "python",
   "name": "python3"
  },
  "language_info": {
   "codemirror_mode": {
    "name": "ipython",
    "version": 3
   },
   "file_extension": ".py",
   "mimetype": "text/x-python",
   "name": "python",
   "nbconvert_exporter": "python",
   "pygments_lexer": "ipython3",
   "version": "3.9.5"
  }
 },
 "nbformat": 4,
 "nbformat_minor": 5
}
