{
 "cells": [
  {
   "cell_type": "code",
   "execution_count": 10,
   "id": "edac65b5",
   "metadata": {},
   "outputs": [
    {
     "data": {
      "text/plain": [
       "['avg', 'min', 'max', 'gap', 'median']"
      ]
     },
     "execution_count": 10,
     "metadata": {},
     "output_type": "execute_result"
    }
   ],
   "source": [
    "[\"time\", \"avg\",\"min\",\"max\",\"gap\",\"median\"][1::]"
   ]
  },
  {
   "cell_type": "code",
   "execution_count": 11,
   "id": "0faeaac3",
   "metadata": {},
   "outputs": [],
   "source": [
    "%matplotlib inline\n",
    "%config InlineBackend.figure_format ='retina'\n",
    "import pandas as pd\n",
    "import numpy as np\n",
    "import sys\n",
    "from io import StringIO\n",
    "import glob\n",
    "if not hasattr(sys, \"version_info\") or sys.version_info < (3, 5):\n",
    "  raise SystemExit(\"This program requires Python 3.5 or later.\")\n",
    "import csv\n",
    "import matplotlib\n",
    "#matplotlib.use('nbagg')\n",
    "import matplotlib.pyplot as plt\n",
    "import os\n",
    "## https://github.com/ipython/ipyparallel\n",
    "import ipyparallel as ipp\n",
    "from IPython.display import JSON\n",
    "import json\n",
    "import statistics as st\n",
    "from pympler import asizeof\n",
    "from hurry.filesize import size\n",
    "data_sources = glob.glob(\"data/*_shops.xml\")\n",
    "\n",
    "import tabletext\n",
    "# tags\n",
    "\n",
    "workers = ipp.Client()[:]\n"
   ]
  },
  {
   "cell_type": "code",
   "execution_count": 12,
   "id": "b572f8b7",
   "metadata": {},
   "outputs": [],
   "source": [
    "def unic(l: list) -> list :\n",
    "    return list(set(l))"
   ]
  },
  {
   "cell_type": "code",
   "execution_count": 13,
   "id": "7abc997a",
   "metadata": {},
   "outputs": [],
   "source": [
    "def processSnapshot(fname):\n",
    "    import xml.etree.ElementTree as ET\n",
    "    import statistics as st\n",
    "    \n",
    "    def processShop(tree, time):\n",
    "        shopData = []\n",
    "        ttidList = []\n",
    "        for good in tree:\n",
    "            goodData = {}\n",
    "            goodData[\"ttid\"] = int(good.findall(\"ttid\")[0].text)\n",
    "            ttidList.append(goodData[\"ttid\"])\n",
    "            goodData[\"time\"] = time\n",
    "            goodData[\"shop\"] = tree.attrib[\"name\"]\n",
    "            goodData[\"shopid\"] = tree.attrib[\"id\"]\n",
    "            goodData[\"shopmoney\"] = tree.attrib[\"money\"]\n",
    "            sellElems = good.findall(\"sell\")\n",
    "            if sellElems:\n",
    "                goodData[\"sell\"] = float(sellElems[0].text)\n",
    "            else:\n",
    "                goodData[\"sell\"] = 0.0\n",
    "\n",
    "            buyElems = good.findall(\"buy\")\n",
    "            if buyElems:\n",
    "                goodData[\"buy\"] = float(buyElems[0].text)\n",
    "            else:\n",
    "                goodData[\"buy\"] = 0.0\n",
    "            goodData[\"count\"] = int(good.findall(\"count\")[0].text)\n",
    "            goodData[\"thingname\"] = good.findall(\"thingname\")[0].text\n",
    "            shopData.append(goodData)\n",
    "        return (shopData, ttidList)\n",
    "    \n",
    "\n",
    "    \n",
    "    timetag = \"lastupdatetime\"\n",
    "    shopTag = \"shop\"\n",
    "    xmltree = ET.parse(fname)\n",
    "    xmlroot = xmltree.getroot()\n",
    "    timeelem = xmlroot.find(timetag)\n",
    "    dataTime = int(timeelem.text)\n",
    "    orders = []\n",
    "    ttids = []\n",
    "    for shop in xmlroot.findall(shopTag):\n",
    "        rc = processShop(shop, dataTime)\n",
    "        shopData = rc[0]\n",
    "        print(shopData)\n",
    "        ttidList = rc[1]\n",
    "        orders.extend(shopData)\n",
    "        ttids.extend(ttidList)\n",
    "    ttid_summary = []\n",
    "    for ttid in ttids:\n",
    "        ttid_stat = {}\n",
    "        ttid_stat[\"ttid\"] = ttid\n",
    "        ttid_stat[\"time\"] = dataTime\n",
    "        ttid_stat[\"buy\"] = []\n",
    "        ttid_stat[\"sell\"] = []\n",
    "        ttid_stat[\"capacity\"] = 0\n",
    "        for order in orders:\n",
    "            if order[\"ttid\"] == ttid:\n",
    "                ttid_stat[\"capacity\"] += order[\"count\"]\n",
    "                if order[\"buy\"] > 0:\n",
    "                    ttid_stat[\"buy\"].append(order[\"buy\"] )\n",
    "                if order[\"sell\"] > 0:\n",
    "                    ttid_stat[\"sell\"].append(order[\"sell\"] )  \n",
    "        \n",
    "        ttid_stat[\"buystat\"] = {}\n",
    "        if ttid_stat[\"buy\"]:\n",
    "            ttid_stat[\"buystat\"][\"avg\"] = st.mean(ttid_stat[\"buy\"])\n",
    "            ttid_stat[\"buystat\"][\"min\"] = min(ttid_stat[\"buy\"])\n",
    "            ttid_stat[\"buystat\"][\"max\"] = max(ttid_stat[\"buy\"])\n",
    "            ttid_stat[\"buystat\"][\"gap\"] = ttid_stat[\"buystat\"][\"max\"] - ttid_stat[\"buystat\"][\"min\"]\n",
    "            ttid_stat[\"buystat\"][\"median\"] = st.median(ttid_stat[\"buy\"])\n",
    "            ttid_stat[\"buystat\"][\"stdev\"] = 0\n",
    "            if len(ttid_stat[\"buy\"]) >= 2:\n",
    "                ttid_stat[\"buystat\"][\"stdev\"] = st.stdev(ttid_stat[\"buy\"], ttid_stat[\"buystat\"][\"avg\"])\n",
    "\n",
    "        ttid_stat[\"sellstat\"] = {}\n",
    "        if len(ttid_stat[\"sell\"]) >= 2:\n",
    "            ttid_stat[\"sellstat\"][\"avg\"] = st.mean(ttid_stat[\"sell\"])\n",
    "            ttid_stat[\"sellstat\"][\"min\"] = min(ttid_stat[\"sell\"])\n",
    "            ttid_stat[\"sellstat\"][\"max\"] = max(ttid_stat[\"sell\"])\n",
    "            ttid_stat[\"sellstat\"][\"gap\"] = ttid_stat[\"sellstat\"][\"max\"] - ttid_stat[\"sellstat\"][\"min\"]\n",
    "            ttid_stat[\"sellstat\"][\"median\"] = st.median(ttid_stat[\"sell\"])\n",
    "            ttid_stat[\"sellstat\"][\"stdev\"] = 0\n",
    "            if len(ttid_stat[\"sell\"]) >= 2:\n",
    "                ttid_stat[\"sellstat\"][\"stdev\"] = st.stdev(ttid_stat[\"sell\"], ttid_stat[\"sellstat\"][\"avg\"])\n",
    "        \n",
    "        ttid_summary.append(ttid_stat)\n",
    "    return (ttid_summary, ttids)"
   ]
  },
  {
   "cell_type": "code",
   "execution_count": 14,
   "id": "15133666",
   "metadata": {},
   "outputs": [
    {
     "name": "stdout",
     "output_type": "stream",
     "text": [
      "data size 3G\n",
      "CPU times: user 3min 27s, sys: 28.3 s, total: 3min 56s\n",
      "Wall time: 8min 43s\n"
     ]
    }
   ],
   "source": [
    "%%time\n",
    "full_pathes = [(\"%s/%s\" % (os.getcwd(), f)) for f in data_sources]\n",
    "parts = workers.map_async(processSnapshot, full_pathes).get()\n",
    "full_pathes = None\n",
    "print(\"data size %s\" % size(asizeof.asizeof(parts)))"
   ]
  },
  {
   "cell_type": "code",
   "execution_count": 15,
   "id": "d03e99bf",
   "metadata": {},
   "outputs": [
    {
     "name": "stdout",
     "output_type": "stream",
     "text": [
      "data size 3G\n",
      "CPU times: user 2min 44s, sys: 2.58 s, total: 2min 46s\n",
      "Wall time: 2min 46s\n"
     ]
    }
   ],
   "source": [
    "%%time\n",
    "ttids = []\n",
    "stats = []\n",
    "for part in parts:\n",
    "    stats.extend(part[0])\n",
    "    ttids.extend(part[1])\n",
    "parts = None\n",
    "ttids = unic(ttids)\n",
    "print(\"data size %s\" % size(asizeof.asizeof(stat)))"
   ]
  },
  {
   "cell_type": "code",
   "execution_count": 21,
   "id": "3fd39f3a",
   "metadata": {},
   "outputs": [
    {
     "name": "stdout",
     "output_type": "stream",
     "text": [
      "1151426\n"
     ]
    },
    {
     "ename": "AttributeError",
     "evalue": "'list' object has no attribute 'is_unique'",
     "output_type": "error",
     "traceback": [
      "\u001b[0;31m---------------------------------------------------------------------------\u001b[0m",
      "\u001b[0;31mAttributeError\u001b[0m                            Traceback (most recent call last)",
      "\u001b[0;32m/tmp/ipykernel_8458/4039373790.py\u001b[0m in \u001b[0;36m<module>\u001b[0;34m\u001b[0m\n\u001b[1;32m     16\u001b[0m \u001b[0mdf\u001b[0m\u001b[0;34m.\u001b[0m\u001b[0mcolumns\u001b[0m \u001b[0;34m=\u001b[0m \u001b[0mheaders\u001b[0m\u001b[0;34m\u001b[0m\u001b[0;34m\u001b[0m\u001b[0m\n\u001b[1;32m     17\u001b[0m \u001b[0;34m\u001b[0m\u001b[0m\n\u001b[0;32m---> 18\u001b[0;31m \u001b[0mdf\u001b[0m\u001b[0;34m.\u001b[0m\u001b[0mplot\u001b[0m\u001b[0;34m.\u001b[0m\u001b[0marea\u001b[0m\u001b[0;34m(\u001b[0m\u001b[0mx\u001b[0m\u001b[0;34m=\u001b[0m\u001b[0mheaders\u001b[0m\u001b[0;34m[\u001b[0m\u001b[0;36m0\u001b[0m\u001b[0;34m]\u001b[0m\u001b[0;34m,\u001b[0m \u001b[0my\u001b[0m\u001b[0;34m=\u001b[0m\u001b[0mheaders\u001b[0m\u001b[0;34m[\u001b[0m\u001b[0;36m1\u001b[0m\u001b[0;34m:\u001b[0m\u001b[0;34m:\u001b[0m\u001b[0;34m]\u001b[0m\u001b[0;34m)\u001b[0m\u001b[0;34m\u001b[0m\u001b[0;34m\u001b[0m\u001b[0m\n\u001b[0m\u001b[1;32m     19\u001b[0m \u001b[0mplt\u001b[0m\u001b[0;34m.\u001b[0m\u001b[0mtitle\u001b[0m\u001b[0;34m(\u001b[0m\u001b[0;34m\"total\"\u001b[0m\u001b[0;34m)\u001b[0m\u001b[0;34m\u001b[0m\u001b[0;34m\u001b[0m\u001b[0m\n\u001b[1;32m     20\u001b[0m \u001b[0mplt\u001b[0m\u001b[0;34m.\u001b[0m\u001b[0mgrid\u001b[0m\u001b[0;34m(\u001b[0m\u001b[0mb\u001b[0m\u001b[0;34m=\u001b[0m\u001b[0;32mTrue\u001b[0m\u001b[0;34m,\u001b[0m \u001b[0mwhich\u001b[0m\u001b[0;34m=\u001b[0m\u001b[0;34m'minor'\u001b[0m\u001b[0;34m,\u001b[0m \u001b[0mcolor\u001b[0m\u001b[0;34m=\u001b[0m\u001b[0;34m'#2c3e50'\u001b[0m\u001b[0;34m)\u001b[0m\u001b[0;34m\u001b[0m\u001b[0;34m\u001b[0m\u001b[0m\n",
      "\u001b[0;32m~/.local/lib/python3.9/site-packages/pandas/plotting/_core.py\u001b[0m in \u001b[0;36marea\u001b[0;34m(self, x, y, **kwargs)\u001b[0m\n\u001b[1;32m   1494\u001b[0m             \u001b[0;34m>>\u001b[0m\u001b[0;34m>\u001b[0m \u001b[0max\u001b[0m \u001b[0;34m=\u001b[0m \u001b[0mdf\u001b[0m\u001b[0;34m.\u001b[0m\u001b[0mplot\u001b[0m\u001b[0;34m.\u001b[0m\u001b[0marea\u001b[0m\u001b[0;34m(\u001b[0m\u001b[0mx\u001b[0m\u001b[0;34m=\u001b[0m\u001b[0;34m'day'\u001b[0m\u001b[0;34m)\u001b[0m\u001b[0;34m\u001b[0m\u001b[0;34m\u001b[0m\u001b[0m\n\u001b[1;32m   1495\u001b[0m         \"\"\"\n\u001b[0;32m-> 1496\u001b[0;31m         \u001b[0;32mreturn\u001b[0m \u001b[0mself\u001b[0m\u001b[0;34m(\u001b[0m\u001b[0mkind\u001b[0m\u001b[0;34m=\u001b[0m\u001b[0;34m\"area\"\u001b[0m\u001b[0;34m,\u001b[0m \u001b[0mx\u001b[0m\u001b[0;34m=\u001b[0m\u001b[0mx\u001b[0m\u001b[0;34m,\u001b[0m \u001b[0my\u001b[0m\u001b[0;34m=\u001b[0m\u001b[0my\u001b[0m\u001b[0;34m,\u001b[0m \u001b[0;34m**\u001b[0m\u001b[0mkwargs\u001b[0m\u001b[0;34m)\u001b[0m\u001b[0;34m\u001b[0m\u001b[0;34m\u001b[0m\u001b[0m\n\u001b[0m\u001b[1;32m   1497\u001b[0m \u001b[0;34m\u001b[0m\u001b[0m\n\u001b[1;32m   1498\u001b[0m     \u001b[0;32mdef\u001b[0m \u001b[0mpie\u001b[0m\u001b[0;34m(\u001b[0m\u001b[0mself\u001b[0m\u001b[0;34m,\u001b[0m \u001b[0;34m**\u001b[0m\u001b[0mkwargs\u001b[0m\u001b[0;34m)\u001b[0m\u001b[0;34m:\u001b[0m\u001b[0;34m\u001b[0m\u001b[0;34m\u001b[0m\u001b[0m\n",
      "\u001b[0;32m~/.local/lib/python3.9/site-packages/pandas/plotting/_core.py\u001b[0m in \u001b[0;36m__call__\u001b[0;34m(self, *args, **kwargs)\u001b[0m\n\u001b[1;32m    935\u001b[0m                 \u001b[0;32mif\u001b[0m \u001b[0mis_integer\u001b[0m\u001b[0;34m(\u001b[0m\u001b[0mx\u001b[0m\u001b[0;34m)\u001b[0m \u001b[0;32mand\u001b[0m \u001b[0;32mnot\u001b[0m \u001b[0mdata\u001b[0m\u001b[0;34m.\u001b[0m\u001b[0mcolumns\u001b[0m\u001b[0;34m.\u001b[0m\u001b[0mholds_integer\u001b[0m\u001b[0;34m(\u001b[0m\u001b[0;34m)\u001b[0m\u001b[0;34m:\u001b[0m\u001b[0;34m\u001b[0m\u001b[0;34m\u001b[0m\u001b[0m\n\u001b[1;32m    936\u001b[0m                     \u001b[0mx\u001b[0m \u001b[0;34m=\u001b[0m \u001b[0mdata_cols\u001b[0m\u001b[0;34m[\u001b[0m\u001b[0mx\u001b[0m\u001b[0;34m]\u001b[0m\u001b[0;34m\u001b[0m\u001b[0;34m\u001b[0m\u001b[0m\n\u001b[0;32m--> 937\u001b[0;31m                 \u001b[0;32melif\u001b[0m \u001b[0;32mnot\u001b[0m \u001b[0misinstance\u001b[0m\u001b[0;34m(\u001b[0m\u001b[0mdata\u001b[0m\u001b[0;34m[\u001b[0m\u001b[0mx\u001b[0m\u001b[0;34m]\u001b[0m\u001b[0;34m,\u001b[0m \u001b[0mABCSeries\u001b[0m\u001b[0;34m)\u001b[0m\u001b[0;34m:\u001b[0m\u001b[0;34m\u001b[0m\u001b[0;34m\u001b[0m\u001b[0m\n\u001b[0m\u001b[1;32m    938\u001b[0m                     \u001b[0;32mraise\u001b[0m \u001b[0mValueError\u001b[0m\u001b[0;34m(\u001b[0m\u001b[0;34m\"x must be a label or position\"\u001b[0m\u001b[0;34m)\u001b[0m\u001b[0;34m\u001b[0m\u001b[0;34m\u001b[0m\u001b[0m\n\u001b[1;32m    939\u001b[0m                 \u001b[0mdata\u001b[0m \u001b[0;34m=\u001b[0m \u001b[0mdata\u001b[0m\u001b[0;34m.\u001b[0m\u001b[0mset_index\u001b[0m\u001b[0;34m(\u001b[0m\u001b[0mx\u001b[0m\u001b[0;34m)\u001b[0m\u001b[0;34m\u001b[0m\u001b[0;34m\u001b[0m\u001b[0m\n",
      "\u001b[0;32m~/.local/lib/python3.9/site-packages/pandas/core/frame.py\u001b[0m in \u001b[0;36m__getitem__\u001b[0;34m(self, key)\u001b[0m\n\u001b[1;32m   3422\u001b[0m         \u001b[0;32mif\u001b[0m \u001b[0mis_hashable\u001b[0m\u001b[0;34m(\u001b[0m\u001b[0mkey\u001b[0m\u001b[0;34m)\u001b[0m\u001b[0;34m:\u001b[0m\u001b[0;34m\u001b[0m\u001b[0;34m\u001b[0m\u001b[0m\n\u001b[1;32m   3423\u001b[0m             \u001b[0;31m# shortcut if the key is in columns\u001b[0m\u001b[0;34m\u001b[0m\u001b[0;34m\u001b[0m\u001b[0;34m\u001b[0m\u001b[0m\n\u001b[0;32m-> 3424\u001b[0;31m             \u001b[0;32mif\u001b[0m \u001b[0mself\u001b[0m\u001b[0;34m.\u001b[0m\u001b[0mcolumns\u001b[0m\u001b[0;34m.\u001b[0m\u001b[0mis_unique\u001b[0m \u001b[0;32mand\u001b[0m \u001b[0mkey\u001b[0m \u001b[0;32min\u001b[0m \u001b[0mself\u001b[0m\u001b[0;34m.\u001b[0m\u001b[0mcolumns\u001b[0m\u001b[0;34m:\u001b[0m\u001b[0;34m\u001b[0m\u001b[0;34m\u001b[0m\u001b[0m\n\u001b[0m\u001b[1;32m   3425\u001b[0m                 \u001b[0;32mif\u001b[0m \u001b[0misinstance\u001b[0m\u001b[0;34m(\u001b[0m\u001b[0mself\u001b[0m\u001b[0;34m.\u001b[0m\u001b[0mcolumns\u001b[0m\u001b[0;34m,\u001b[0m \u001b[0mMultiIndex\u001b[0m\u001b[0;34m)\u001b[0m\u001b[0;34m:\u001b[0m\u001b[0;34m\u001b[0m\u001b[0;34m\u001b[0m\u001b[0m\n\u001b[1;32m   3426\u001b[0m                     \u001b[0;32mreturn\u001b[0m \u001b[0mself\u001b[0m\u001b[0;34m.\u001b[0m\u001b[0m_getitem_multilevel\u001b[0m\u001b[0;34m(\u001b[0m\u001b[0mkey\u001b[0m\u001b[0;34m)\u001b[0m\u001b[0;34m\u001b[0m\u001b[0;34m\u001b[0m\u001b[0m\n",
      "\u001b[0;31mAttributeError\u001b[0m: 'list' object has no attribute 'is_unique'"
     ]
    }
   ],
   "source": [
    "frame_source = []\n",
    "for stat in stats:\n",
    "    if stat[\"sellstat\"]:\n",
    "        record = [\n",
    "            stat[\"time\"],\n",
    "            stat[\"sellstat\"][\"avg\"],\n",
    "            stat[\"sellstat\"][\"min\"],\n",
    "            stat[\"sellstat\"][\"max\"],\n",
    "            stat[\"sellstat\"][\"gap\"],\n",
    "            stat[\"sellstat\"][\"median\"]\n",
    "        ]\n",
    "        frame_source.append(record)\n",
    "print(len(frame_source))\n",
    "df = pd.DataFrame(frame_source)\n",
    "headers = [\"time\", \"avg\",\"min\",\"max\",\"gap\",\"median\"]\n",
    "df.columns = headers\n",
    "\n",
    "df.plot.area(x=headers[0], y=headers[1::])\n",
    "plt.title(\"total\")\n",
    "plt.grid(b=True, which='minor', color='#2c3e50')\n",
    "plt.minorticks_on()\n",
    "plt.show()"
   ]
  },
  {
   "cell_type": "code",
   "execution_count": null,
   "id": "f90845c3",
   "metadata": {},
   "outputs": [],
   "source": []
  }
 ],
 "metadata": {
  "kernelspec": {
   "display_name": "Python 3 (ipykernel)",
   "language": "python",
   "name": "python3"
  },
  "language_info": {
   "codemirror_mode": {
    "name": "ipython",
    "version": 3
   },
   "file_extension": ".py",
   "mimetype": "text/x-python",
   "name": "python",
   "nbconvert_exporter": "python",
   "pygments_lexer": "ipython3",
   "version": "3.9.5"
  }
 },
 "nbformat": 4,
 "nbformat_minor": 5
}
