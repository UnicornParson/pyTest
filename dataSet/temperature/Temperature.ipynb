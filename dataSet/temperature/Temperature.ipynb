{
 "cells": [
  {
   "cell_type": "code",
   "execution_count": 1,
   "id": "b823d14c",
   "metadata": {},
   "outputs": [],
   "source": [
    "%matplotlib inline\n",
    "%config InlineBackend.figure_format ='retina'\n",
    "import pandas as pd\n",
    "import numpy as np\n",
    "import sys\n",
    "from io import StringIO\n",
    "import glob\n",
    "if not hasattr(sys, \"version_info\") or sys.version_info < (3, 5):\n",
    "  raise SystemExit(\"This program requires Python 3.5 or later.\")\n",
    "import csv\n",
    "import matplotlib\n",
    "#matplotlib.use('nbagg')\n",
    "import matplotlib.pyplot as plt\n",
    "\n",
    "\n",
    "data_files = [\n",
    "    \"temperature/data000.csv\",\n",
    "    \"temperature/data001.csv\",\n",
    "    \"temperature/data002.csv\"\n",
    "]\n",
    "merged_file = \"temperature/merged.csv\"\n",
    "merged_file2 = \"temperature/merged2.csv\"\n",
    "dataTypes = {'time': 'datetime64','humidity': 'float', 'temperature': 'float'}"
   ]
  },
  {
   "cell_type": "code",
   "execution_count": 2,
   "id": "e42d634f",
   "metadata": {},
   "outputs": [
    {
     "name": "stdout",
     "output_type": "stream",
     "text": [
      "temperature/data001.csv file are merged\n",
      "ignore header time;humidity;temperature\n",
      "temperature/data000.csv file are merged\n",
      "ignore header time;humidity;temperature\n",
      "temperature/data002.csv file are merged\n",
      "saved to temperature/merged.csv. lines 772147\n",
      "CPU times: user 5min 13s, sys: 14.4 s, total: 5min 28s\n",
      "Wall time: 5min 29s\n"
     ]
    }
   ],
   "source": [
    "%%time\n",
    "## merge data\n",
    "counter = 0\n",
    "headersWrote = False\n",
    "frames = []\n",
    "filelist = glob.glob('temperature/data*.csv')\n",
    "with open(merged_file, 'w', newline='') as outfile:\n",
    "    for csvfilePath in filelist:\n",
    "        with open(csvfilePath, 'r', newline='') as infile:\n",
    "            indata = infile.read().replace(\",\", \".\")\n",
    "            frames.append(pd.read_csv(StringIO(indata), sep = \";\").astype(dataTypes))\n",
    "            firstLine = True\n",
    "            lines = indata.splitlines()\n",
    "            for row in lines:\n",
    "                counter += 1\n",
    "                if firstLine and headersWrote:\n",
    "                    firstLine = False\n",
    "                    print(\"ignore header \" + row)\n",
    "                    continue\n",
    "                headersWrote = True\n",
    "                firstLine = False\n",
    "                outfile.write(row)\n",
    "                outfile.flush()\n",
    "            print(\"%s file are merged\" % csvfilePath)\n",
    "    outfile.flush()\n",
    "    print(\"saved to %s. lines %d\" % (merged_file, counter))\n"
   ]
  },
  {
   "cell_type": "code",
   "execution_count": null,
   "id": "fba612bf",
   "metadata": {},
   "outputs": [],
   "source": [
    "%%time\n",
    "temperature_data = pd.read_csv(merged_file, sep = \";\")"
   ]
  },
  {
   "cell_type": "code",
   "execution_count": null,
   "id": "13121d96",
   "metadata": {},
   "outputs": [],
   "source": [
    "temperature_data = temperature_data.astype(dataTypes)"
   ]
  },
  {
   "cell_type": "code",
   "execution_count": 4,
   "id": "6c077c8e",
   "metadata": {},
   "outputs": [
    {
     "ename": "NameError",
     "evalue": "name 'temperature_data' is not defined",
     "output_type": "error",
     "traceback": [
      "\u001b[0;31m---------------------------------------------------------------------------\u001b[0m",
      "\u001b[0;31mNameError\u001b[0m                                 Traceback (most recent call last)",
      "\u001b[0;32m<timed exec>\u001b[0m in \u001b[0;36m<module>\u001b[0;34m\u001b[0m\n",
      "\u001b[0;31mNameError\u001b[0m: name 'temperature_data' is not defined"
     ]
    }
   ],
   "source": [
    "%%time\n",
    "temperature_data.plot.area(x=\"time\", y=[\"temperature\", \"humidity\"])\n",
    "plt.title(\"total\")\n",
    "plt.show()\n",
    "temperature_data.plot.hexbin(x=\"humidity\", y=\"temperature\", gridsize=20)\n",
    "plt.title(\"total hex\")\n",
    "plt.show()"
   ]
  },
  {
   "cell_type": "code",
   "execution_count": 5,
   "id": "bd05c9fe",
   "metadata": {
    "scrolled": false
   },
   "outputs": [
    {
     "ename": "NameError",
     "evalue": "name 'temperature_data' is not defined",
     "output_type": "error",
     "traceback": [
      "\u001b[0;31m---------------------------------------------------------------------------\u001b[0m",
      "\u001b[0;31mNameError\u001b[0m                                 Traceback (most recent call last)",
      "\u001b[0;32m<ipython-input-5-ce83949a797a>\u001b[0m in \u001b[0;36m<module>\u001b[0;34m\u001b[0m\n\u001b[0;32m----> 1\u001b[0;31m \u001b[0mtemperature_data\u001b[0m\u001b[0;34m[\u001b[0m\u001b[0;34m'humidity'\u001b[0m\u001b[0;34m]\u001b[0m\u001b[0;34m.\u001b[0m\u001b[0mhist\u001b[0m\u001b[0;34m(\u001b[0m\u001b[0mbins\u001b[0m\u001b[0;34m=\u001b[0m\u001b[0;36m9\u001b[0m\u001b[0;34m)\u001b[0m\u001b[0;34m\u001b[0m\u001b[0m\n\u001b[0m",
      "\u001b[0;31mNameError\u001b[0m: name 'temperature_data' is not defined"
     ]
    }
   ],
   "source": [
    "temperature_data['humidity'].hist(bins=9)"
   ]
  },
  {
   "cell_type": "code",
   "execution_count": null,
   "id": "0550a26c",
   "metadata": {},
   "outputs": [],
   "source": [
    "temperature_data['temperature'].hist(bins=9)"
   ]
  },
  {
   "cell_type": "code",
   "execution_count": null,
   "id": "fa9aabb1",
   "metadata": {},
   "outputs": [],
   "source": [
    "%%time\n",
    "i = 0\n",
    "for frame in frames:\n",
    "    frame.plot.area(x=\"time\", y=[\"temperature\", \"humidity\"])\n",
    "    plt.title(data_files[i])\n",
    "    plt.show()\n",
    "    frame.plot.hexbin(x=\"humidity\", y=\"temperature\", gridsize=20)\n",
    "    plt.title(\"%s hex\" % data_files[i])\n",
    "    plt.show()\n",
    "    i += 1"
   ]
  },
  {
   "cell_type": "code",
   "execution_count": null,
   "id": "ffe97fff",
   "metadata": {},
   "outputs": [],
   "source": []
  }
 ],
 "metadata": {
  "kernelspec": {
   "display_name": "Python 3",
   "language": "python",
   "name": "python3"
  },
  "language_info": {
   "codemirror_mode": {
    "name": "ipython",
    "version": 3
   },
   "file_extension": ".py",
   "mimetype": "text/x-python",
   "name": "python",
   "nbconvert_exporter": "python",
   "pygments_lexer": "ipython3",
   "version": "3.5.3"
  }
 },
 "nbformat": 4,
 "nbformat_minor": 5
}
