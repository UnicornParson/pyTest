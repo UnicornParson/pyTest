{
 "cells": [
  {
   "cell_type": "code",
   "execution_count": 1,
   "id": "bfc21d51",
   "metadata": {},
   "outputs": [
    {
     "data": {
      "application/javascript": [
       "IPython.OutputArea.prototype._should_scroll = function(lines) {\n",
       "    return false;\n",
       "}\n"
      ],
      "text/plain": [
       "<IPython.core.display.Javascript object>"
      ]
     },
     "metadata": {},
     "output_type": "display_data"
    }
   ],
   "source": [
    "%%javascript\n",
    "IPython.OutputArea.prototype._should_scroll = function(lines) {\n",
    "    return false;\n",
    "}"
   ]
  },
  {
   "cell_type": "code",
   "execution_count": 3,
   "id": "f645cf14",
   "metadata": {},
   "outputs": [],
   "source": [
    "%matplotlib inline\n",
    "%config InlineBackend.figure_format ='retina'\n",
    "import pandas as pd\n",
    "import numpy as np\n",
    "import sys\n",
    "if not hasattr(sys, \"version_info\") or sys.version_info < (3, 5):\n",
    "  raise SystemExit(\"This program requires Python 3.5 or later.\")\n",
    "import matplotlib\n",
    "#matplotlib.use('nbagg')\n",
    "import matplotlib.pyplot as plt\n",
    "import os\n",
    "plt.rcParams['figure.figsize'] = [30/2.54, 20/2.54]\n",
    "## https://github.com/ipython/ipyparallel\n",
    "import ipyparallel as ipp\n",
    "ipp.Client().wait_for_engines(2)\n",
    "workers = ipp.Client()[:]"
   ]
  },
  {
   "cell_type": "code",
   "execution_count": 4,
   "id": "5d237aa9",
   "metadata": {},
   "outputs": [],
   "source": [
    "def getsize(initial, n: int) -> dict:\n",
    "    a = initial[0]\n",
    "    b = initial[1]\n",
    "    def hasPair(a: int, b: int, l: list)->bool:\n",
    "        sz = len(l)\n",
    "        if sz < 2:\n",
    "            return False\n",
    "        for i in range(sz - 1):\n",
    "            if (l[i] == a) and (l[i+1] == b):\n",
    "                return True\n",
    "        return False\n",
    "    \n",
    "    max = (10 ** n) - 1\n",
    "    rc = {}\n",
    "    rc[\"seq\"] = [a, b]  \n",
    "    rc[\"sz\"] = 0\n",
    "    ## trivial\n",
    "    if (a == 0 and b == 0) or (a == 0  and b == max) or (a == max  and b == 0):\n",
    "        return rc\n",
    "\n",
    "    done = False\n",
    "    sz = 0\n",
    "    \n",
    "    while not done:\n",
    "        c = a + b\n",
    "        if c >= max:\n",
    "            c = c - max\n",
    "        done = hasPair(b, c, rc[\"seq\"] )\n",
    "        rc[\"seq\"] .append(c)\n",
    "        sz += 1\n",
    "        a = b\n",
    "        b = c\n",
    "    rc[\"sz\"] = sz\n",
    "    return rc\n",
    "    "
   ]
  },
  {
   "cell_type": "code",
   "execution_count": 5,
   "id": "d2dd2465",
   "metadata": {},
   "outputs": [
    {
     "name": "stdout",
     "output_type": "stream",
     "text": [
      "CPU times: user 6 µs, sys: 1 µs, total: 7 µs\n",
      "Wall time: 11.2 µs\n"
     ]
    }
   ],
   "source": [
    "%%time\n",
    "def makedata(n: int)->list:\n",
    "    s_list = []\n",
    "    variants = []\n",
    "    max = (10 ** n) - 1\n",
    "    inData = []\n",
    "    for x, y in np.ndindex((max-1,max-1)):\n",
    "        inData.append((x, y))\n",
    "    parts = workers.map_async(getsize, inData, [n]*len(inData)).get()\n",
    "\n",
    "    for d in parts:\n",
    "        s = d[\"sz\"]\n",
    "        if d[\"sz\"] > 0:\n",
    "            s_list.append([(\"%d-%d\" % (d[\"seq\"][0], d[\"seq\"][1])), d[\"sz\"]])\n",
    "            variants.append(d[\"sz\"])\n",
    "\n",
    "    variants = list(set(variants))\n",
    "    df1 = pd.DataFrame(s_list)\n",
    "    df1.columns = [\"pair\", \"count\"]\n",
    "    df1.plot.line(x=\"pair\", y=\"count\")\n",
    "    plt.title(\"0-%d limit\" % max)\n",
    "    #plt.grid(b=True, which='minor', color='#2c3e50')\n",
    "    plt.minorticks_on()\n",
    "    plt.show()\n",
    "    return variants.sort() \n",
    "\n",
    "def makedata_single(n: int)->list:\n",
    "    s_list = []\n",
    "    variants = []\n",
    "    max = (10 ** n) - 1\n",
    "    inData = []\n",
    "    for x, y in np.ndindex((max-1,max-1)):\n",
    "        inData.append((x, y))\n",
    "        \n",
    "    parts = []\n",
    "    for i in inData:\n",
    "        parts.append(getsize(i, n))\n",
    "  \n",
    "    for d in parts:\n",
    "        s = d[\"sz\"]\n",
    "        if d[\"sz\"] > 0:\n",
    "            s_list.append([(\"%d-%d\" % (d[\"seq\"][0], d[\"seq\"][1])), d[\"sz\"]])\n",
    "            variants.append(d[\"sz\"])\n",
    "\n",
    "    variants = list(set(variants))\n",
    "    df1 = pd.DataFrame(s_list)\n",
    "    df1.columns = [\"pair\", \"count\"]\n",
    "    df1.plot.line(x=\"pair\", y=\"count\")\n",
    "    plt.title(\"0-%d limit\" % max)\n",
    "    #plt.grid(b=True, which='minor', color='#2c3e50')\n",
    "    plt.minorticks_on()\n",
    "    plt.show()\n",
    "    return variants.sort()"
   ]
  },
  {
   "cell_type": "code",
   "execution_count": null,
   "id": "c5501191",
   "metadata": {},
   "outputs": [],
   "source": [
    "%%time\n",
    "makedata_single(3)\n",
    "   "
   ]
  },
  {
   "cell_type": "code",
   "execution_count": null,
   "id": "023da35c",
   "metadata": {},
   "outputs": [],
   "source": [
    "%%time\n",
    "makedata_single(4)"
   ]
  },
  {
   "cell_type": "code",
   "execution_count": null,
   "id": "e750ec7d",
   "metadata": {},
   "outputs": [],
   "source": [
    "%%time\n",
    "makedata_single(5)"
   ]
  },
  {
   "cell_type": "code",
   "execution_count": null,
   "id": "8c930045",
   "metadata": {},
   "outputs": [],
   "source": []
  }
 ],
 "metadata": {
  "kernelspec": {
   "display_name": "Python 3 (ipykernel)",
   "language": "python",
   "name": "python3"
  },
  "language_info": {
   "codemirror_mode": {
    "name": "ipython",
    "version": 3
   },
   "file_extension": ".py",
   "mimetype": "text/x-python",
   "name": "python",
   "nbconvert_exporter": "python",
   "pygments_lexer": "ipython3",
   "version": "3.10.4"
  }
 },
 "nbformat": 4,
 "nbformat_minor": 5
}
